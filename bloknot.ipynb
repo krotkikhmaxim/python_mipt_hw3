{
 "cells": [
  {
   "cell_type": "markdown",
   "id": "aca0353b",
   "metadata": {
    "id": "aca0353b"
   },
   "source": [
    "# Домашнее задание 3. Парсинг, Git и тестирование на Python\n",
    "\n",
    "**Цели задания:**\n",
    "\n",
    "* Освоить базовые подходы к web-scraping с библиотеками `requests` и `BeautisulSoup`: навигация по страницам, извлечение HTML-элементов, парсинг.\n",
    "* Научиться автоматизировать задачи с использованием библиотеки `schedule`.\n",
    "* Попрактиковаться в использовании Git и оформлении проектов на GitHub.\n",
    "* Написать и запустить простые юнит-тесты с использованием `pytest`.\n",
    "\n",
    "\n",
    "В этом домашнем задании вы разработаете систему для автоматического сбора данных о книгах с сайта [Books to Scrape](http://books.toscrape.com). Нужно реализовать функции для парсинга всех страниц сайта, извлечения информации о книгах, автоматического ежедневного запуска задачи и сохранения результата.\n",
    "\n",
    "Важной частью задания станет оформление проекта: вы создадите репозиторий на GitHub, оформите `README.md`, добавите артефакты (код, данные, отчеты) и напишете базовые тесты на `pytest`.\n",
    "\n"
   ]
  },
  {
   "cell_type": "code",
   "execution_count": 251,
   "id": "K3JMV0qwmA_q",
   "metadata": {
    "id": "K3JMV0qwmA_q"
   },
   "outputs": [
    {
     "name": "stderr",
     "output_type": "stream",
     "text": [
      "\"40pip\" ­Ґ пў«пҐвбп ў­гваҐ­­Ґ© Ё«Ё ў­Ґи­Ґ©\n",
      "Є®¬ ­¤®©, ЁбЇ®«­пҐ¬®© Їа®Ја ¬¬®© Ё«Ё Ї ЄҐв­л¬ д ©«®¬.\n"
     ]
    }
   ],
   "source": [
    "!40pip install -q schedule pytest # установка библиотек, если ещё не"
   ]
  },
  {
   "cell_type": "code",
   "execution_count": 252,
   "id": "873d4904",
   "metadata": {
    "id": "873d4904"
   },
   "outputs": [],
   "source": [
    "# Библиотеки, которые могут вам понадобиться\n",
    "# При необходимости расширяйте список\n",
    "import time\n",
    "import requests\n",
    "import schedule\n",
    "from urllib.parse import urljoin, urlparse\n",
    "from bs4 import BeautifulSoup"
   ]
  },
  {
   "cell_type": "markdown",
   "id": "unTvsWaegHdj",
   "metadata": {
    "id": "unTvsWaegHdj"
   },
   "source": [
    "## Задание 1. Сбор данных об одной книге (20 баллов)\n",
    "\n",
    "В этом задании мы начнем подготовку скрипта для парсинга информации о книгах со страниц каталога сайта [Books to Scrape](https://books.toscrape.com/).\n",
    "\n",
    "Для начала реализуйте функцию `get_book_data`, которая будет получать данные о книге с одной страницы (например, с [этой](http://books.toscrape.com/catalogue/a-light-in-the-attic_1000/index.html)). Соберите всю информацию, включая название, цену, рейтинг, количество в наличии, описание и дополнительные характеристики из таблицы Product Information. Результат достаточно вернуть в виде словаря.\n",
    "\n",
    "**Не забывайте про соблюдение PEP-8** — помимо качественно написанного кода важно также документировать функции по стандарту:\n",
    "* кратко описать, что она делает и для чего нужна;\n",
    "* какие входные аргументы принимает, какого они типа и что означают по смыслу;\n",
    "* аналогично описать возвращаемые значения.\n",
    "\n",
    "*P. S. Состав, количество аргументов функции и тип возвращаемого значения можете менять как вам удобно. То, что написано ниже в шаблоне — лишь пример.*"
   ]
  },
  {
   "cell_type": "code",
   "execution_count": 253,
   "id": "UfD2vAjHkEoS",
   "metadata": {
    "id": "UfD2vAjHkEoS"
   },
   "outputs": [],
   "source": [
    "def get_book_data(\n",
    "    book_url: str,\n",
    "    class_table: str = \"table table-striped\",\n",
    "    must_have_data: list = None\n",
    ") -> dict:\n",
    "    \"\"\"\n",
    "    Извлекает данные о книге из HTML-таблицы на веб-странице.\n",
    "\n",
    "    Args:\n",
    "        book_url (str): URL-адрес страницы с информацией о книге\n",
    "        class_table (str): CSS-класс таблицы (по умолчанию \"table table-striped\")\n",
    "        must_have_data (list): Список обязательных полей для проверки\n",
    "\n",
    "    Returns:\n",
    "        dict: Словарь с данными о книге\n",
    "\n",
    "    Raises:\n",
    "        ValueError: При некорректных входных параметрах\n",
    "        requests.exceptions.RequestException: При ошибках HTTP-запроса\n",
    "        Exception: При ошибках парсинга HTML-контента\n",
    "    \"\"\"\n",
    "\n",
    "    # Кастомные исключения\n",
    "    class BookPageParseError(Exception):\n",
    "        \"\"\"Исключение для ошибок парсинга страницы книги.\"\"\"\n",
    "        pass\n",
    "\n",
    "    class BookDataNotFoundError(Exception):\n",
    "        \"\"\"Исключение когда не найдены критические данные книги.\"\"\"\n",
    "        pass\n",
    "\n",
    "    # Инициализация must_have_data по умолчанию\n",
    "    if must_have_data is None:\n",
    "        must_have_data = []\n",
    "\n",
    "    parsed = urlparse(book_url)\n",
    "    base_url = f\"{parsed.scheme}://{parsed.netloc}/\"\n",
    "    \n",
    "    try:\n",
    "        if not isinstance(book_url, str):\n",
    "            raise ValueError(f\"URL должен быть строкой, получен {type(book_url)}\")\n",
    "\n",
    "        # Выполнение HTTP-запроса\n",
    "        try:\n",
    "            response = requests.get(book_url)\n",
    "            response.raise_for_status()\n",
    "        except requests.exceptions.RequestException as e:\n",
    "            raise requests.exceptions.RequestException(\n",
    "                f\"Ошибка выполнения HTTP-запроса {response.status_code}: {e}\"\n",
    "            )\n",
    "\n",
    "        # Парсинг\n",
    "        try:\n",
    "            soup = BeautifulSoup(response.text, 'html.parser')\n",
    "        except Exception as e:\n",
    "            raise BookPageParseError(f\"Ошибка парсинга HTML: {e}\")\n",
    "\n",
    "        data = {}\n",
    "\n",
    "        data['title'] = soup.find('h1').text\n",
    "        data['price'] = soup.find('p', class_='price_color').text\n",
    "        data['description'] = soup.find('meta', attrs={'name': 'description'})['content']\n",
    "\n",
    "        rating_element = soup.find('p', class_='star-rating')\n",
    "        data['rating'] = rating_element['class'][1] if rating_element else None\n",
    "\n",
    "        availability = soup.find('p', class_='instock')\n",
    "        data['availability'] = availability.text.strip() if availability else None\n",
    "\n",
    "        breadcrumb = soup.find('ul', class_='breadcrumb')\n",
    "        category_links = breadcrumb.find_all('li')\n",
    "        data['category'] = category_links[2].text.strip() if len(category_links) > 2 else None\n",
    "\n",
    "        table = soup.find(class_=class_table)\n",
    "\n",
    "        headers = map(lambda x: x.get_text(strip=True), table.find_all('th'))\n",
    "        data_cells = map(lambda x: x.get_text(strip=True), table.find_all('td'))\n",
    "\n",
    "        data['product_info'] = dict(zip(headers, data_cells))\n",
    "\n",
    "        image = soup.find('div', class_='item active').find('img')\n",
    "        data['image_url'] = base_url + image['src'].replace('../..', '') if image else None\n",
    "\n",
    "        none_data = set(must_have_data) & {key for key, value in data.items() if value is None}\n",
    "        if none_data:\n",
    "            raise BookDataNotFoundError(f\"Обязательные поля не заполнены: {', '.join(none_data)}\")\n",
    "\n",
    "        return data\n",
    "\n",
    "    except (ValueError, requests.exceptions.RequestException,\n",
    "            BookPageParseError, BookDataNotFoundError):\n",
    "        raise\n",
    "\n",
    "    except Exception as e:\n",
    "        raise BookPageParseError(f\"Непредвиденная ошибка при обработке страницы: {e}\")\n",
    "    # КОНЕЦ ВАШЕГО РЕШЕНИЯ"
   ]
  },
  {
   "cell_type": "code",
   "execution_count": 254,
   "id": "moRSO9Itp1LT",
   "metadata": {
    "id": "moRSO9Itp1LT"
   },
   "outputs": [
    {
     "data": {
      "text/plain": [
       "{'title': 'A Light in the Attic',\n",
       " 'price': 'Â£51.77',\n",
       " 'description': \"\\n    It's hard to imagine a world without A Light in the Attic. This now-classic collection of poetry and drawings from Shel Silverstein celebrates its 20th anniversary with this special edition. Silverstein's humorous and creative verse can amuse the dowdiest of readers. Lemon-faced adults and fidgety kids sit still and read these rhythmic words and laugh and smile and love th It's hard to imagine a world without A Light in the Attic. This now-classic collection of poetry and drawings from Shel Silverstein celebrates its 20th anniversary with this special edition. Silverstein's humorous and creative verse can amuse the dowdiest of readers. Lemon-faced adults and fidgety kids sit still and read these rhythmic words and laugh and smile and love that Silverstein. Need proof of his genius? RockabyeRockabye baby, in the treetopDon't you know a treetopIs no safe place to rock?And who put you up there,And your cradle, too?Baby, I think someone down here'sGot it in for you. Shel, you never sounded so good. ...more\\n\",\n",
       " 'rating': 'Three',\n",
       " 'availability': 'In stock (22 available)',\n",
       " 'category': 'Poetry',\n",
       " 'product_info': {'UPC': 'a897fe39b1053632',\n",
       "  'Product Type': 'Books',\n",
       "  'Price (excl. tax)': 'Â£51.77',\n",
       "  'Price (incl. tax)': 'Â£51.77',\n",
       "  'Tax': 'Â£0.00',\n",
       "  'Availability': 'In stock (22 available)',\n",
       "  'Number of reviews': '0'},\n",
       " 'image_url': 'http://books.toscrape.com//media/cache/fe/72/fe72f0532301ec28892ae79a629a293c.jpg'}"
      ]
     },
     "execution_count": 254,
     "metadata": {},
     "output_type": "execute_result"
    }
   ],
   "source": [
    "# Используйте для самопроверки\n",
    "book_url = 'http://books.toscrape.com/catalogue/a-light-in-the-attic_1000/index.html'\n",
    "get_book_data(book_url)"
   ]
  },
  {
   "cell_type": "markdown",
   "id": "u601Q4evosq6",
   "metadata": {
    "id": "u601Q4evosq6"
   },
   "source": [
    "## Задание 2. Сбор данных обо всех книгах (20 баллов)\n",
    "\n",
    "Создайте функцию `scrape_books`, которая будет проходиться по всем страницам из каталога (вида `http://books.toscrape.com/catalogue/page-{N}.html`) и осуществлять парсинг всех страниц в цикле, используя ранее написанную `get_book_data`.\n",
    "\n",
    "Добавьте аргумент-флаг, который будет отвечать за сохранение результата в файл: если он будет равен `True`, то информация сохранится в ту же папку в файл `books_data.txt`; иначе шаг сохранения будет пропущен.\n",
    "\n",
    "**Также не забывайте про соблюдение PEP-8**"
   ]
  },
  {
   "cell_type": "code",
   "execution_count": 255,
   "id": "kk78l6oDkdxl",
   "metadata": {
    "id": "kk78l6oDkdxl"
   },
   "outputs": [],
   "source": [
    "def scrape_books(\n",
    "    is_save=True, \n",
    "    base_url=\"http://books.toscrape.com/catalogue/page-{}.html\", \n",
    "    page_num=1, \n",
    "    class_list=\"image_container\",\n",
    "    file_name='books_data.txt',\n",
    "    format_data=str,\n",
    "    stop=float('inf'),\n",
    "    func_get=get_book_data\n",
    "): \n",
    "\n",
    "    \"\"\"\n",
    "    Парсит данные о книгах с сайта <base_url>.\n",
    "    \n",
    "    Функция проходит по указанному количеству страниц каталога, извлекает \n",
    "    ссылки на книги и собирает информацию о каждой книге.\n",
    "    \n",
    "    Args:\n",
    "        is_save (bool): Сохранять ли данные в файл. По умолчанию True\n",
    "        base_url (str): Шаблон URL для pagination. По умолчанию URL books.toscrape.com\n",
    "        page_num (int): Номер страницы для начала парсинга. По умолчанию 1\n",
    "        class_list (str): CSS класс для поиска контейнеров с книгами. По умолчанию \"image_container\"\n",
    "        file_name (str): Имя файла для сохранения данных. По умолчанию 'books_data.txt'\n",
    "        format_data (callable): Функция для форматирования данных перед сохранением. По умолчанию str\n",
    "        stop (int): Номер страницы на которой остановиться. По умолчанию 2\n",
    "        \n",
    "    Returns:\n",
    "        list: Список словарей с информацией о книгах\n",
    "        \n",
    "    Examples:\n",
    "        >>> # Парсинг первых 2 страниц\n",
    "        >>> books = scrape_books(stop=2)\n",
    "        >>> # Парсинг с кастомным форматированием\n",
    "    \"\"\"\n",
    "    \n",
    "    # НАЧАЛО ВАШЕГО РЕШЕНИЯ\n",
    "    \n",
    "    data = {}\n",
    "    book_num = 1\n",
    "    \n",
    "    while page_num < stop:\n",
    "        url = base_url.format(page_num)\n",
    "        response = requests.get(url)\n",
    "        \n",
    "        if response.status_code != 200:\n",
    "            break  # Закончились страницы\n",
    "\n",
    "        try:\n",
    "            soup = BeautifulSoup(response.text, 'html.parser').find_all(class_=class_list)\n",
    "        \n",
    "            for link in soup:\n",
    "                full_url = \"http://books.toscrape.com/catalogue/\"+link.find('a', href=True)['href']\n",
    "                data[book_num] = func_get(full_url)  \n",
    "                book_num += 1\n",
    "            \n",
    "            page_num += 1\n",
    "        \n",
    "            time.sleep(0.5)\n",
    "                  \n",
    "            if is_save:        \n",
    "                with open (file_name, 'w', encoding='utf-8') as f:\n",
    "                    for book in data.items():\n",
    "                        f.write(format_data(book)+'\\n')\n",
    "                        \n",
    "        except requests.exceptions.RequestException as e:\n",
    "            print(f\"Ошибка запроса: {e}\")\n",
    "            return {}\n",
    "        except Exception as e:\n",
    "            print(f\"Ошибка парсинга: {e}\")\n",
    "            return {}     \n",
    "        \n",
    "    return data\n",
    "    # КОНЕЦ ВАШЕГО РЕШЕНИЯ"
   ]
  },
  {
   "cell_type": "code",
   "execution_count": 256,
   "id": "Bt7mrXcbkj5Q",
   "metadata": {
    "id": "Bt7mrXcbkj5Q"
   },
   "outputs": [
    {
     "name": "stdout",
     "output_type": "stream",
     "text": [
      "<class 'dict'> 20\n"
     ]
    }
   ],
   "source": [
    "# Проверка работоспособности функции\n",
    "res = scrape_books(is_save=True, stop=2, func_get=get_book_data) # Допишите ваши аргументы\n",
    "print(type(res), len(res)) # и проверки"
   ]
  },
  {
   "cell_type": "markdown",
   "id": "z5fd728nl8a8",
   "metadata": {
    "id": "z5fd728nl8a8"
   },
   "source": [
    "## Задание 3. Настройка регулярной выгрузки (10 баллов)\n",
    "\n",
    "Настройте автоматический запуск функции сбора данных каждый день в 19:00.\n",
    "Для автоматизации используйте библиотеку `schedule`. Функция должна запускаться в указанное время и сохранять обновленные данные в текстовый файл.\n",
    "\n",
    "\n",
    "\n",
    "Бесконечный цикл должен обеспечивать постоянное ожидание времени для запуска задачи и выполнять ее по расписанию. Однако чтобы не перегружать систему, стоит подумать о том, чтобы выполнять проверку нужного времени не постоянно, а раз в какой-то промежуток. В этом вам может помочь `time.sleep(...)`.\n",
    "\n",
    "Проверьте работоспособность кода локально на любом времени чч:мм.\n",
    "\n"
   ]
  },
  {
   "cell_type": "code",
   "execution_count": null,
   "id": "SajRRCj4n8BZ",
   "metadata": {
    "id": "SajRRCj4n8BZ"
   },
   "outputs": [],
   "source": [
    "# НАЧАЛО ВАШЕГО РЕШЕНИЯ\n",
    "\n",
    "schedule.every().day.at(\"19:00\", \"Europe/Moscow\").do(scrape_books(is_save=True, func_get=get_book_data))\n",
    "\n",
    "while True:\n",
    "    schedule.run_pending()\n",
    "    time.sleep(1)\n",
    "    \n",
    "# КОНЕЦ ВАШЕГО РЕШЕНИЯ"
   ]
  },
  {
   "cell_type": "markdown",
   "id": "XFiPtEyaoLxq",
   "metadata": {
    "id": "XFiPtEyaoLxq"
   },
   "source": [
    "## Задание 4. Написание автотестов (15 баллов)\n",
    "\n",
    "Создайте минимум три автотеста для ключевых функций парсинга — например, `get_book_data` и `scrape_books`. Идеи проверок (можете использовать свои):\n",
    "\n",
    "* данные о книге возвращаются в виде словаря с нужными ключами;\n",
    "* список ссылок или количество собранных книг соответствует ожиданиям;\n",
    "* значения отдельных полей (например, `title`) корректны.\n",
    "\n",
    "Оформите тесты в отдельном скрипте `tests/test_scraper.py`, используйте библиотеку `pytest`. Убедитесь, что тесты проходят успешно при запуске из терминала командой `pytest`.\n",
    "\n",
    "Также выведите результат их выполнения в ячейке ниже.\n",
    "\n",
    "**Не забывайте про соблюдение PEP-8**\n"
   ]
  },
  {
   "cell_type": "code",
   "execution_count": null,
   "id": "lBFAw4b3z8QY",
   "metadata": {
    "id": "lBFAw4b3z8QY"
   },
   "outputs": [],
   "source": [
    "# Ячейка для демонстрации работоспособности\n",
    "# Сам код напишите в отдельном скрипте\n",
    "! pytest test/test_scraper.py"
   ]
  },
  {
   "cell_type": "markdown",
   "id": "cRSQlHfRtOdN",
   "metadata": {
    "id": "cRSQlHfRtOdN"
   },
   "source": [
    "## Задание 5. Оформление проекта на GitHub и работа с Git (35 баллов)\n",
    "\n",
    "В этом задании нужно воспользоваться системой контроля версий Git и платформой GitHub для хранения и управления своим проектом. **Ссылку на свой репозиторий пришлите в форме для сдачи ответа.**\n",
    "\n",
    "### Пошаговая инструкция и задания\n",
    "\n",
    "**1. Установите Git на свой компьютер.**\n",
    "\n",
    "* Для Windows: [скачайте установщик](https://git-scm.com/downloads) и выполните установку.\n",
    "* Для macOS:\n",
    "\n",
    "  ```\n",
    "  brew install git\n",
    "  ```\n",
    "* Для Linux:\n",
    "\n",
    "  ```\n",
    "  sudo apt update\n",
    "  sudo apt install git\n",
    "  ```\n",
    "\n",
    "**2. Настройте имя пользователя и email.**\n",
    "\n",
    "Это нужно для подписи ваших коммитов, сделайте в терминале через `git config ...`.\n",
    "\n",
    "**3. Создайте аккаунт на GitHub**, если у вас его еще нет:\n",
    "[https://github.com](https://github.com)\n",
    "\n",
    "**4. Создайте новый репозиторий на GitHub:**\n",
    "\n",
    "* Найдите кнопку **New repository**.\n",
    "* Укажите название, краткое описание, выберите тип **Public** (чтобы мы могли проверить ДЗ).\n",
    "* Не ставьте галочку Initialize this repository with a README.\n",
    "\n",
    "**5. Создайте локальную папку с проектом.** Можно в терминале, можно через UI, это не имеет значения.\n",
    "\n",
    "**6. Инициализируйте Git в этой папке.** Здесь уже придется воспользоваться некоторой командой в терминале.\n",
    "\n",
    "**7. Привяжите локальный репозиторий к удаленному на GitHub.**\n",
    "\n",
    "**8. Создайте ветку разработки.** По умолчанию вы будете находиться в ветке `main`, создайте и переключитесь на ветку `hw-books-parser`.\n",
    "\n",
    "**9. Добавьте в проект следующие файлы и папки:**\n",
    "\n",
    "* `scraper.py` — ваш основной скрипт для сбора данных.\n",
    "* `README.md` — файл с кратким описанием проекта:\n",
    "\n",
    "  * цель;\n",
    "  * инструкции по запуску;\n",
    "  * список используемых библиотек.\n",
    "* `requirements.txt` — файл со списком зависимостей, необходимых для проекта (не присылайте все из глобального окружения, создайте изолированную виртуальную среду, добавьте в нее все нужное для проекта и получите список библиотек через `pip freeze`).\n",
    "* `artifacts/` — папка с результатами парсинга (`books_data.txt` — полностью или его часть, если весь не поместится на GitHub).\n",
    "* `notebooks/` — папка с заполненным ноутбуком `HW_03_python_ds_2025.ipynb` и запущенными ячейками с выводами на экран.\n",
    "* `tests/` — папка с тестами на `pytest`, оформите их в формате скрипта(-ов) с расширением `.py`.\n",
    "* `.gitignore` — стандартный файл, который позволит исключить временные файлы при добавлении в отслеживаемые (например, `__pycache__/`, `.DS_Store`, `*.pyc`, `venv/` и др.).\n",
    "\n",
    "\n",
    "**10. Сделайте коммит.**\n",
    "\n",
    "**11. Отправьте свою ветку на GitHub.**\n",
    "\n",
    "**12. Создайте Pull Request:**\n",
    "\n",
    "* Перейдите в репозиторий на GitHub.\n",
    "* Нажмите кнопку **Compare & pull request**.\n",
    "* Укажите, что было добавлено, и нажмите **Create pull request**.\n",
    "\n",
    "**13. Выполните слияние Pull Request:**\n",
    "\n",
    "* Убедитесь, что нет конфликтов.\n",
    "* Нажмите **Merge pull request**, затем **Confirm merge**.\n",
    "\n",
    "**14. Скачайте изменения из основной ветки локально.**\n",
    "\n",
    "\n",
    "\n",
    "### Требования к итоговому репозиторию\n",
    "\n",
    "* Файл `scraper.py` с рабочим кодом парсера.\n",
    "* `README.md` с описанием проекта и инструкцией по запуску.\n",
    "* Папка `artifacts/` с результатом сбора данных (`.txt` файл).\n",
    "* Папка `tests/` с тестами на `pytest`.\n",
    "* Папка `notebooks/` с заполненным ноутбуком `HW_03_python_ds_2025.ipynb`.\n",
    "* Pull Request с комментарием из ветки `hw-books-parser` в ветку `main`.\n",
    "* Примерная структура:\n",
    "\n",
    "  ```\n",
    "  books_scraper/\n",
    "  ├── artifacts/\n",
    "  │   └── books_data.txt\n",
    "  ├── notebooks/\n",
    "  │   └── HW_03_python_ds_2025.ipynb\n",
    "  ├── scraper.py\n",
    "  ├── README.md\n",
    "  ├── tests/\n",
    "  │   └── test_scraper.py\n",
    "  ├── .gitignore\n",
    "  └── requirements.txt\n",
    "  ```"
   ]
  }
 ],
 "metadata": {
  "colab": {
   "provenance": []
  },
  "kernelspec": {
   "display_name": "Python 3 (ipykernel)",
   "language": "python",
   "name": "python3"
  },
  "language_info": {
   "codemirror_mode": {
    "name": "ipython",
    "version": 3
   },
   "file_extension": ".py",
   "mimetype": "text/x-python",
   "name": "python",
   "nbconvert_exporter": "python",
   "pygments_lexer": "ipython3",
   "version": "3.12.3"
  }
 },
 "nbformat": 4,
 "nbformat_minor": 5
}
